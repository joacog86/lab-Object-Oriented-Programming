{
 "cells": [
  {
   "cell_type": "markdown",
   "id": "15106bb5",
   "metadata": {},
   "source": [
    "# Lab | Object Oriented Programming\n",
    "\n",
    "## Introduction\n",
    "\n",
    "In this lab you have to implement a Python class for a TV.\n",
    "\n",
    "## Constructor\n",
    "\n",
    "Crete a Python Tv class with a constructor and the following attributes:\n",
    "\n",
    "* .on (Boolean)\n",
    "* .volume (float in [0,100])\n",
    "* .active_channel (int in [1,10])\n",
    "* .input (str in [\"Anthena\", \"HDMI1\", \"HDMI2\", \"HDMI3\"])\n",
    "* .size (float in [42, 50, 55, 65, 75])\n",
    "\n",
    "## Methods\n",
    "\n",
    "* .switch_on()\n",
    "* .switch_off()\n",
    "* .set_volume(volume: int)\n",
    "* .change_channel(channel: int)\n",
    "* .set_input(value: str)\n",
    "\n",
    "## Submission\n",
    "\n",
    "Upon completion, add your jupyter notebook to git. Then commit git and push your branch to the remote.\n",
    "\n",
    "## Resources\n",
    "\n",
    "[Classes in Python Tutorials](https://www.youtube.com/playlist?list=PL-osiE80TeTsqhIuOqKhwlXsIBIdSeYtc)"
   ]
  },
  {
   "cell_type": "code",
   "execution_count": 88,
   "id": "95204221",
   "metadata": {},
   "outputs": [],
   "source": [
    "class PythonTV():\n",
    "\n",
    "    # Class variable: this variable is common to every instance of the class\n",
    "    \n",
    "\n",
    "    # Constructor method of the class.\n",
    "    def __init__(self, on, volume, active_channel, input, size):\n",
    "\n",
    "        #input validation\n",
    "        if on != 0 and on != 1 :\n",
    "            raise ValueError(\"The attribute 'on' should be boolean\")\n",
    "        if not (0 <= volume <= 100):\n",
    "            raise ValueError(\"Volume should be between 0 and 100\")\n",
    "        if not (1 <= active_channel <= 10):\n",
    "            raise ValueError(\"Channel must be between 1 and 10\")\n",
    "        if input not in [\"Anthena\", \"HDMI1\", \"HDMI2\", \"HDMI3\"]:\n",
    "            raise ValueError(\"Inputs can only be Anthena, HDMI1, HDMI2 or HDMI3\")\n",
    "        if size not in ([42, 50, 55, 65, 75]):\n",
    "            raise ValueError(\"TV sizes permitted are 42,50,55,65 or 75\")\n",
    "    \n",
    "        self.on = on\n",
    "        self.volume = float(volume)\n",
    "        self.active_channel = int(active_channel)\n",
    "        self.input = input\n",
    "        self.size = float(size)\n",
    "\n",
    "    # Bear in mind that it uses \"self\" to access to the instance attributes.\n",
    "\n",
    "    def switch_on(self):\n",
    "        self.on = True\n",
    "\n",
    "    def switch_off(self):\n",
    "        self.on = False\n",
    "\n",
    "    def set_volume(self, volume):\n",
    "        if not self.on:\n",
    "            raise ValueError(\"Turn TV on ;)\")\n",
    "        if not (0 <= volume <= 100):\n",
    "            raise ValueError(\"Volume should be between 0 and 100.\")\n",
    "        self.volume = volume\n",
    "\n",
    "    def change_channel(self, channel):\n",
    "        if not self.on:\n",
    "            raise ValueError(\"Turn TV on ;)\")\n",
    "        if not (1 <= channel <= 10):\n",
    "            raise ValueError(\"Channel must be between 1 and 10\")\n",
    "        self.active_channel = channel\n",
    "\n",
    "    def set_input(self, value):\n",
    "        if not self.on:\n",
    "            raise ValueError(\"Turn TV on ;)\")\n",
    "        if value not in [\"Anthena\", \"HDMI1\", \"HDMI2\", \"HDMI3\"]:\n",
    "            raise ValueError(\"Inputs can only be Anthena, HDMI1, HDMI2 or HDMI3\")\n",
    "        self.input_source = value\n"
   ]
  },
  {
   "cell_type": "code",
   "execution_count": 95,
   "id": "7930373d",
   "metadata": {},
   "outputs": [],
   "source": [
    "prueba = PythonTV(on=False, volume=80.5, active_channel=2, input=\"HDMI1\", size=55)"
   ]
  },
  {
   "cell_type": "code",
   "execution_count": 96,
   "id": "48bf50ce",
   "metadata": {},
   "outputs": [
    {
     "ename": "ValueError",
     "evalue": "Turn TV on ;)",
     "output_type": "error",
     "traceback": [
      "\u001b[1;31m---------------------------------------------------------------------------\u001b[0m",
      "\u001b[1;31mValueError\u001b[0m                                Traceback (most recent call last)",
      "Cell \u001b[1;32mIn[96], line 1\u001b[0m\n\u001b[1;32m----> 1\u001b[0m prueba\u001b[38;5;241m.\u001b[39mchange_channel(\u001b[38;5;241m4\u001b[39m)\n",
      "Cell \u001b[1;32mIn[88], line 44\u001b[0m, in \u001b[0;36mPythonTV.change_channel\u001b[1;34m(self, channel)\u001b[0m\n\u001b[0;32m     42\u001b[0m \u001b[38;5;28;01mdef\u001b[39;00m \u001b[38;5;21mchange_channel\u001b[39m(\u001b[38;5;28mself\u001b[39m, channel):\n\u001b[0;32m     43\u001b[0m     \u001b[38;5;28;01mif\u001b[39;00m \u001b[38;5;129;01mnot\u001b[39;00m \u001b[38;5;28mself\u001b[39m\u001b[38;5;241m.\u001b[39mon:\n\u001b[1;32m---> 44\u001b[0m         \u001b[38;5;28;01mraise\u001b[39;00m \u001b[38;5;167;01mValueError\u001b[39;00m(\u001b[38;5;124m\"\u001b[39m\u001b[38;5;124mTurn TV on ;)\u001b[39m\u001b[38;5;124m\"\u001b[39m)\n\u001b[0;32m     45\u001b[0m     \u001b[38;5;28;01mif\u001b[39;00m \u001b[38;5;129;01mnot\u001b[39;00m (\u001b[38;5;241m1\u001b[39m \u001b[38;5;241m<\u001b[39m\u001b[38;5;241m=\u001b[39m channel \u001b[38;5;241m<\u001b[39m\u001b[38;5;241m=\u001b[39m \u001b[38;5;241m10\u001b[39m):\n\u001b[0;32m     46\u001b[0m         \u001b[38;5;28;01mraise\u001b[39;00m \u001b[38;5;167;01mValueError\u001b[39;00m(\u001b[38;5;124m\"\u001b[39m\u001b[38;5;124mChannel must be between 1 and 10\u001b[39m\u001b[38;5;124m\"\u001b[39m)\n",
      "\u001b[1;31mValueError\u001b[0m: Turn TV on ;)"
     ]
    }
   ],
   "source": [
    "prueba.change_channel(4)"
   ]
  },
  {
   "cell_type": "code",
   "execution_count": 94,
   "id": "fb93604d",
   "metadata": {},
   "outputs": [
    {
     "data": {
      "text/plain": [
       "2"
      ]
     },
     "execution_count": 94,
     "metadata": {},
     "output_type": "execute_result"
    }
   ],
   "source": [
    "prueba.active_channel"
   ]
  },
  {
   "cell_type": "code",
   "execution_count": 97,
   "id": "7b07923e",
   "metadata": {},
   "outputs": [],
   "source": [
    "prueba = PythonTV(on=True, volume=80.5, active_channel=2, input=\"HDMI1\", size=55)"
   ]
  },
  {
   "cell_type": "code",
   "execution_count": 98,
   "id": "af7fb016",
   "metadata": {},
   "outputs": [],
   "source": [
    "prueba.change_channel(4)"
   ]
  },
  {
   "cell_type": "code",
   "execution_count": 99,
   "id": "01e4ceca",
   "metadata": {},
   "outputs": [
    {
     "data": {
      "text/plain": [
       "4"
      ]
     },
     "execution_count": 99,
     "metadata": {},
     "output_type": "execute_result"
    }
   ],
   "source": [
    "prueba.active_channel"
   ]
  },
  {
   "cell_type": "code",
   "execution_count": null,
   "id": "94f2a074",
   "metadata": {},
   "outputs": [],
   "source": []
  }
 ],
 "metadata": {
  "kernelspec": {
   "display_name": "Python 3 (ipykernel)",
   "language": "python",
   "name": "python3"
  },
  "language_info": {
   "codemirror_mode": {
    "name": "ipython",
    "version": 3
   },
   "file_extension": ".py",
   "mimetype": "text/x-python",
   "name": "python",
   "nbconvert_exporter": "python",
   "pygments_lexer": "ipython3",
   "version": "3.11.5"
  }
 },
 "nbformat": 4,
 "nbformat_minor": 5
}
