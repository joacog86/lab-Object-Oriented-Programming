{
 "cells": [
  {
   "cell_type": "markdown",
   "id": "52f05585",
   "metadata": {},
   "source": [
    "# Lab | Object Oriented Programming\n",
    "\n",
    "## Introduction\n",
    "\n",
    "In this lab you have to implement a Python class for a TV.\n",
    "\n",
    "## Constructor\n",
    "\n",
    "Crete a Python Tv class with a constructor and the following attributes:\n",
    "\n",
    "* .on (Boolean)\n",
    "* .volume (float in [0,100])\n",
    "* .active_channel (int in [1,10])\n",
    "* .input (str in [\"Anthena\", \"HDMI1\", \"HDMI2\", \"HDMI3\"])\n",
    "* .size (float in [42, 50, 55, 65, 75])\n",
    "\n",
    "## Methods\n",
    "\n",
    "* .switch_on()\n",
    "* .switch_off()\n",
    "* .set_volume(volume: int)\n",
    "* .change_channel(channel: int)\n",
    "* .set_input(value: str)\n",
    "\n",
    "## Submission\n",
    "\n",
    "Upon completion, add your jupyter notebook to git. Then commit git and push your branch to the remote.\n",
    "\n",
    "## Resources\n",
    "\n",
    "[Classes in Python Tutorials](https://www.youtube.com/playlist?list=PL-osiE80TeTsqhIuOqKhwlXsIBIdSeYtc)"
   ]
  },
  {
   "cell_type": "code",
   "execution_count": 120,
   "id": "c6495563",
   "metadata": {},
   "outputs": [],
   "source": [
    "class PythonTV():\n",
    "\n",
    "    # Class variable: this variable is common to every instance of the class\n",
    "    \n",
    "\n",
    "    # Constructor method of the class.\n",
    "    def __init__(self, on, volume, active_channel, input, size):\n",
    "\n",
    "        #input validation\n",
    "        if on != 0 and on != 1 :\n",
    "            raise ValueError(\"The attribute 'on' should be boolean\")\n",
    "        if not (0 <= volume <= 100):\n",
    "            raise ValueError(\"Volume should be between 0 and 100\")\n",
    "        if not (1 <= active_channel <= 10):\n",
    "            raise ValueError(\"Channel must be between 1 and 10\")\n",
    "        if input not in [\"Anthena\", \"HDMI1\", \"HDMI2\", \"HDMI3\"]:\n",
    "            raise ValueError(\"Inputs can only be Anthena, HDMI1, HDMI2 or HDMI3\")\n",
    "        if size not in ([42, 50, 55, 65, 75]):\n",
    "            raise ValueError(\"TV sizes permitted are 42,50,55,65 or 75\")\n",
    "    \n",
    "        self.on = on\n",
    "        self.volume = float(volume)\n",
    "        self.active_channel = int(active_channel)\n",
    "        self.input = input\n",
    "        self.size = float(size)\n",
    "\n",
    "    # Bear in mind that it uses \"self\" to access to the instance attributes.\n",
    "\n",
    "    def switch_on(self):\n",
    "        self.on = True\n",
    "\n",
    "    def switch_off(self):\n",
    "        self.on = False\n",
    "\n",
    "    def set_volume(self, volume):\n",
    "        if not self.on:\n",
    "            raise ValueError(\"Turn TV on ;)\")\n",
    "        if not isinstance(volume, (int)):\n",
    "            raise ValueError(\"Volume must be an integer or float.\")\n",
    "        if not (0 <= volume <= 100):\n",
    "            raise ValueError(\"Volume should be between 0 and 100.\")\n",
    "        self.volume = volume\n",
    "\n",
    "    def change_channel(self, channel):\n",
    "        if not self.on:\n",
    "            raise ValueError(\"Turn TV on ;)\")\n",
    "        if not isinstance(channel, int):\n",
    "            raise ValueError(\"Channel must be an integer.\")\n",
    "        if not (1 <= channel <= 10):\n",
    "            raise ValueError(\"Channel must be between 1 and 10\")\n",
    "        self.active_channel = channel\n",
    "\n",
    "    def set_input(self, value):\n",
    "        if not self.on:\n",
    "            raise ValueError(\"Turn TV on ;)\")\n",
    "        if not isinstance(value, str):\n",
    "            raise ValueError(\"Input must be a string.\")\n",
    "        if value not in [\"Anthena\", \"HDMI1\", \"HDMI2\", \"HDMI3\"]:\n",
    "            raise ValueError(\"Inputs can only be Anthena, HDMI1, HDMI2 or HDMI3\")\n",
    "        self.input = value\n"
   ]
  },
  {
   "cell_type": "code",
   "execution_count": 101,
   "id": "4b81f1de",
   "metadata": {},
   "outputs": [],
   "source": [
    "prueba = PythonTV(on=False, volume=80.5, active_channel=2, input=\"HDMI1\", size=55)"
   ]
  },
  {
   "cell_type": "code",
   "execution_count": 102,
   "id": "c91de57c",
   "metadata": {},
   "outputs": [
    {
     "ename": "ValueError",
     "evalue": "Turn TV on ;)",
     "output_type": "error",
     "traceback": [
      "\u001b[1;31m---------------------------------------------------------------------------\u001b[0m",
      "\u001b[1;31mValueError\u001b[0m                                Traceback (most recent call last)",
      "Cell \u001b[1;32mIn[102], line 1\u001b[0m\n\u001b[1;32m----> 1\u001b[0m prueba\u001b[38;5;241m.\u001b[39mchange_channel(\u001b[38;5;241m4\u001b[39m)\n",
      "Cell \u001b[1;32mIn[100], line 46\u001b[0m, in \u001b[0;36mPythonTV.change_channel\u001b[1;34m(self, channel)\u001b[0m\n\u001b[0;32m     44\u001b[0m \u001b[38;5;28;01mdef\u001b[39;00m \u001b[38;5;21mchange_channel\u001b[39m(\u001b[38;5;28mself\u001b[39m, channel):\n\u001b[0;32m     45\u001b[0m     \u001b[38;5;28;01mif\u001b[39;00m \u001b[38;5;129;01mnot\u001b[39;00m \u001b[38;5;28mself\u001b[39m\u001b[38;5;241m.\u001b[39mon:\n\u001b[1;32m---> 46\u001b[0m         \u001b[38;5;28;01mraise\u001b[39;00m \u001b[38;5;167;01mValueError\u001b[39;00m(\u001b[38;5;124m\"\u001b[39m\u001b[38;5;124mTurn TV on ;)\u001b[39m\u001b[38;5;124m\"\u001b[39m)\n\u001b[0;32m     47\u001b[0m     \u001b[38;5;28;01mif\u001b[39;00m \u001b[38;5;129;01mnot\u001b[39;00m \u001b[38;5;28misinstance\u001b[39m(channel, \u001b[38;5;28mint\u001b[39m):\n\u001b[0;32m     48\u001b[0m         \u001b[38;5;28;01mraise\u001b[39;00m \u001b[38;5;167;01mValueError\u001b[39;00m(\u001b[38;5;124m\"\u001b[39m\u001b[38;5;124mChannel must be an integer.\u001b[39m\u001b[38;5;124m\"\u001b[39m)\n",
      "\u001b[1;31mValueError\u001b[0m: Turn TV on ;)"
     ]
    }
   ],
   "source": [
    "prueba.change_channel(4)"
   ]
  },
  {
   "cell_type": "code",
   "execution_count": 103,
   "id": "f54ac029",
   "metadata": {},
   "outputs": [
    {
     "data": {
      "text/plain": [
       "2"
      ]
     },
     "execution_count": 103,
     "metadata": {},
     "output_type": "execute_result"
    }
   ],
   "source": [
    "prueba.active_channel"
   ]
  },
  {
   "cell_type": "code",
   "execution_count": 123,
   "id": "e2be1376",
   "metadata": {},
   "outputs": [],
   "source": [
    "prueba = PythonTV(on=True, volume=80.5, active_channel=2, input=\"HDMI1\", size=55)"
   ]
  },
  {
   "cell_type": "code",
   "execution_count": 124,
   "id": "e6cbd2ac",
   "metadata": {},
   "outputs": [],
   "source": [
    "prueba.change_channel(4)"
   ]
  },
  {
   "cell_type": "code",
   "execution_count": 125,
   "id": "217447a4",
   "metadata": {},
   "outputs": [
    {
     "data": {
      "text/plain": [
       "4"
      ]
     },
     "execution_count": 125,
     "metadata": {},
     "output_type": "execute_result"
    }
   ],
   "source": [
    "prueba.active_channel"
   ]
  },
  {
   "cell_type": "code",
   "execution_count": 126,
   "id": "74326ab4",
   "metadata": {},
   "outputs": [],
   "source": [
    "prueba.set_volume(89)"
   ]
  },
  {
   "cell_type": "code",
   "execution_count": 127,
   "id": "c4e3b1a8",
   "metadata": {},
   "outputs": [
    {
     "ename": "ValueError",
     "evalue": "Input must be a string.",
     "output_type": "error",
     "traceback": [
      "\u001b[1;31m---------------------------------------------------------------------------\u001b[0m",
      "\u001b[1;31mValueError\u001b[0m                                Traceback (most recent call last)",
      "Cell \u001b[1;32mIn[127], line 1\u001b[0m\n\u001b[1;32m----> 1\u001b[0m prueba\u001b[38;5;241m.\u001b[39mset_input(\u001b[38;5;241m23\u001b[39m)\n",
      "Cell \u001b[1;32mIn[120], line 57\u001b[0m, in \u001b[0;36mPythonTV.set_input\u001b[1;34m(self, value)\u001b[0m\n\u001b[0;32m     55\u001b[0m     \u001b[38;5;28;01mraise\u001b[39;00m \u001b[38;5;167;01mValueError\u001b[39;00m(\u001b[38;5;124m\"\u001b[39m\u001b[38;5;124mTurn TV on ;)\u001b[39m\u001b[38;5;124m\"\u001b[39m)\n\u001b[0;32m     56\u001b[0m \u001b[38;5;28;01mif\u001b[39;00m \u001b[38;5;129;01mnot\u001b[39;00m \u001b[38;5;28misinstance\u001b[39m(value, \u001b[38;5;28mstr\u001b[39m):\n\u001b[1;32m---> 57\u001b[0m     \u001b[38;5;28;01mraise\u001b[39;00m \u001b[38;5;167;01mValueError\u001b[39;00m(\u001b[38;5;124m\"\u001b[39m\u001b[38;5;124mInput must be a string.\u001b[39m\u001b[38;5;124m\"\u001b[39m)\n\u001b[0;32m     58\u001b[0m \u001b[38;5;28;01mif\u001b[39;00m value \u001b[38;5;129;01mnot\u001b[39;00m \u001b[38;5;129;01min\u001b[39;00m [\u001b[38;5;124m\"\u001b[39m\u001b[38;5;124mAnthena\u001b[39m\u001b[38;5;124m\"\u001b[39m, \u001b[38;5;124m\"\u001b[39m\u001b[38;5;124mHDMI1\u001b[39m\u001b[38;5;124m\"\u001b[39m, \u001b[38;5;124m\"\u001b[39m\u001b[38;5;124mHDMI2\u001b[39m\u001b[38;5;124m\"\u001b[39m, \u001b[38;5;124m\"\u001b[39m\u001b[38;5;124mHDMI3\u001b[39m\u001b[38;5;124m\"\u001b[39m]:\n\u001b[0;32m     59\u001b[0m     \u001b[38;5;28;01mraise\u001b[39;00m \u001b[38;5;167;01mValueError\u001b[39;00m(\u001b[38;5;124m\"\u001b[39m\u001b[38;5;124mInputs can only be Anthena, HDMI1, HDMI2 or HDMI3\u001b[39m\u001b[38;5;124m\"\u001b[39m)\n",
      "\u001b[1;31mValueError\u001b[0m: Input must be a string."
     ]
    }
   ],
   "source": [
    "prueba.set_input(23)"
   ]
  },
  {
   "cell_type": "code",
   "execution_count": 133,
   "id": "a9449171",
   "metadata": {},
   "outputs": [
    {
     "ename": "ValueError",
     "evalue": "Inputs can only be Anthena, HDMI1, HDMI2 or HDMI3",
     "output_type": "error",
     "traceback": [
      "\u001b[1;31m---------------------------------------------------------------------------\u001b[0m",
      "\u001b[1;31mValueError\u001b[0m                                Traceback (most recent call last)",
      "Cell \u001b[1;32mIn[133], line 1\u001b[0m\n\u001b[1;32m----> 1\u001b[0m prueba\u001b[38;5;241m.\u001b[39mset_input(\u001b[38;5;124m\"\u001b[39m\u001b[38;5;124mhello\u001b[39m\u001b[38;5;124m\"\u001b[39m)\n",
      "Cell \u001b[1;32mIn[120], line 59\u001b[0m, in \u001b[0;36mPythonTV.set_input\u001b[1;34m(self, value)\u001b[0m\n\u001b[0;32m     57\u001b[0m     \u001b[38;5;28;01mraise\u001b[39;00m \u001b[38;5;167;01mValueError\u001b[39;00m(\u001b[38;5;124m\"\u001b[39m\u001b[38;5;124mInput must be a string.\u001b[39m\u001b[38;5;124m\"\u001b[39m)\n\u001b[0;32m     58\u001b[0m \u001b[38;5;28;01mif\u001b[39;00m value \u001b[38;5;129;01mnot\u001b[39;00m \u001b[38;5;129;01min\u001b[39;00m [\u001b[38;5;124m\"\u001b[39m\u001b[38;5;124mAnthena\u001b[39m\u001b[38;5;124m\"\u001b[39m, \u001b[38;5;124m\"\u001b[39m\u001b[38;5;124mHDMI1\u001b[39m\u001b[38;5;124m\"\u001b[39m, \u001b[38;5;124m\"\u001b[39m\u001b[38;5;124mHDMI2\u001b[39m\u001b[38;5;124m\"\u001b[39m, \u001b[38;5;124m\"\u001b[39m\u001b[38;5;124mHDMI3\u001b[39m\u001b[38;5;124m\"\u001b[39m]:\n\u001b[1;32m---> 59\u001b[0m     \u001b[38;5;28;01mraise\u001b[39;00m \u001b[38;5;167;01mValueError\u001b[39;00m(\u001b[38;5;124m\"\u001b[39m\u001b[38;5;124mInputs can only be Anthena, HDMI1, HDMI2 or HDMI3\u001b[39m\u001b[38;5;124m\"\u001b[39m)\n\u001b[0;32m     60\u001b[0m \u001b[38;5;28mself\u001b[39m\u001b[38;5;241m.\u001b[39minput \u001b[38;5;241m=\u001b[39m value\n",
      "\u001b[1;31mValueError\u001b[0m: Inputs can only be Anthena, HDMI1, HDMI2 or HDMI3"
     ]
    }
   ],
   "source": [
    "prueba.set_input(\"hello\")"
   ]
  },
  {
   "cell_type": "code",
   "execution_count": 134,
   "id": "cb6b3885",
   "metadata": {},
   "outputs": [],
   "source": [
    "prueba.set_input(\"Anthena\")"
   ]
  },
  {
   "cell_type": "code",
   "execution_count": 135,
   "id": "39342938",
   "metadata": {},
   "outputs": [
    {
     "data": {
      "text/plain": [
       "'Anthena'"
      ]
     },
     "execution_count": 135,
     "metadata": {},
     "output_type": "execute_result"
    }
   ],
   "source": [
    "prueba.input"
   ]
  },
  {
   "cell_type": "code",
   "execution_count": null,
   "id": "2f602e61",
   "metadata": {},
   "outputs": [],
   "source": []
  }
 ],
 "metadata": {
  "kernelspec": {
   "display_name": "Python 3 (ipykernel)",
   "language": "python",
   "name": "python3"
  },
  "language_info": {
   "codemirror_mode": {
    "name": "ipython",
    "version": 3
   },
   "file_extension": ".py",
   "mimetype": "text/x-python",
   "name": "python",
   "nbconvert_exporter": "python",
   "pygments_lexer": "ipython3",
   "version": "3.11.5"
  }
 },
 "nbformat": 4,
 "nbformat_minor": 5
}
